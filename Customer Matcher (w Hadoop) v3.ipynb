{
 "cells": [
  {
   "cell_type": "code",
   "execution_count": null,
   "metadata": {},
   "outputs": [],
   "source": [
    "import re\n",
    "import string\n",
    "import numpy as np\n",
    "import Levenshtein as lv # ratio(), jaro(), jaro_winkler() for short strings\n",
    "import pandas as pd\n",
    "import pyodbc # for Hadoop\n",
    "import json # for Hadoop\n",
    "import time\n",
    "import matplotlib.pyplot as plt\n",
    "import seaborn as sns \n",
    "import os\n",
    "\n",
    "from jupyterthemes import jtplot\n",
    "jtplot.style(theme=\"monokai\", context=\"notebook\", ticks=True, grid=False)\n",
    "\n",
    "with open('HIVE_JSON') as json_file:     # if you receive error here\n",
    "    HIVE_JSON = json.load(json_file);    # you need to delete these two rows\n",
    "    \n",
    "HIVE_User = HIVE_JSON['username']        # insert your user credentials after '=' symbol\n",
    "HIVE_Password = HIVE_JSON['password']    # insert your password credentials after '=' symbol\n",
    "\n",
    "script_start = time.time()"
   ]
  },
  {
   "cell_type": "markdown",
   "metadata": {},
   "source": [
    "# Functions"
   ]
  },
  {
   "cell_type": "code",
   "execution_count": null,
   "metadata": {},
   "outputs": [],
   "source": [
    "def show(dataframe, x):\n",
    "    with pd.option_context(\"display.max_rows\",None, \"display.max_columns\",None):\n",
    "        display(dataframe.head(x))"
   ]
  },
  {
   "cell_type": "markdown",
   "metadata": {},
   "source": [
    "# Hadoop connection to Customer Master"
   ]
  },
  {
   "cell_type": "code",
   "execution_count": null,
   "metadata": {},
   "outputs": [],
   "source": [
    "Country_mapping = pd.DataFrame(pd.read_excel('Country ISO.xlsx', sheet_name = 'ISO Country'))\n",
    "\n",
    "Country_mapping.info()\n",
    "Country_mapping.head(5)"
   ]
  },
  {
   "cell_type": "code",
   "execution_count": null,
   "metadata": {
    "scrolled": false
   },
   "outputs": [],
   "source": [
    "%%time\n",
    "\n",
    "cnxnstr = \"\"\"Driver={Hortonworks Hive ODBC Driver};HIVESERVERTYPE=2;HOST=sdeu5002.ux.festo.net;PORT=10000;\n",
    "                 UID=\"\"\" + str(HIVE_User) + ';PWD=' + str(HIVE_Password) + ';AuthMECH=4;TrustedCerts=cacerts.pem'\n",
    "\n",
    "cnxn = pyodbc.connect(cnxnstr, autocommit = True)\n",
    "\n",
    "sql = \"\"\" SELECT customer, name, street, city, postal_cd, country\n",
    "            FROM snac.t_bd_p08_y08hcv_md_rep_cust_sales_hadoop\n",
    "            WHERE division = \"01\" and distr_chan = '01' and country = 'DE'\n",
    "            ;\"\"\"   \n",
    "\n",
    "Customer_Master = pd.DataFrame(pd.read_sql(sql, cnxn))\n",
    "\n",
    "Customer_Master.info()\n",
    "Customer_Master.head(10)"
   ]
  },
  {
   "cell_type": "code",
   "execution_count": null,
   "metadata": {},
   "outputs": [],
   "source": [
    "# %%time\n",
    "# sql = \"\"\" SELECT *\n",
    "#             FROM snac.t_bd_p08_y08hcv_md_rep_cust_sales_hadoop\n",
    "#             LIMIT 10;\"\"\"   \n",
    "\n",
    "# show(pd.DataFrame(pd.read_sql(sql, cnxn)), 5)"
   ]
  },
  {
   "cell_type": "code",
   "execution_count": null,
   "metadata": {},
   "outputs": [],
   "source": [
    "# print(Customer_Master['postal_cd'].str.split('-').str[0].str.len().mean().round())\n",
    "# print(Customer_Master['postal_cd'].str.len().mean().round())\n",
    "\n",
    "# # Customer_Master['postal_cd'] = Customer_Master['postal_cd'].str.split('-').str[0]\n",
    "# Customer_Master['postal_cd'].head(5)"
   ]
  },
  {
   "cell_type": "markdown",
   "metadata": {},
   "source": [
    "# Bisnode Data Loading"
   ]
  },
  {
   "cell_type": "code",
   "execution_count": null,
   "metadata": {
    "scrolled": false
   },
   "outputs": [],
   "source": [
    "Bisnode = pd.DataFrame(pd.read_excel(r'C:\\Users\\lt0grmk\\OneDrive - Festo\\Big Data\\Company Matcher\\Germany\\Festo-1784-DE-2020-05.xlsx', \n",
    "                                      sheet_name = 'Tabelle1'))\n",
    "\n",
    "Bisnode.info()\n",
    "Bisnode.head(5)"
   ]
  },
  {
   "cell_type": "code",
   "execution_count": null,
   "metadata": {},
   "outputs": [],
   "source": [
    "relevant_columns = ['name', 'street', 'city', 'postal_cd', 'country', 'customer']\n",
    "relevant_columns"
   ]
  },
  {
   "cell_type": "code",
   "execution_count": null,
   "metadata": {
    "scrolled": false
   },
   "outputs": [],
   "source": [
    "Bisnode.rename(columns={\"add\": \"street\", \"post code\": \"postal_cd\"}, inplace = True) # make sure both DF's column names match\n",
    "Bisnode['country'].value_counts(normalize = True).plot.bar(figsize = (20, 7));"
   ]
  },
  {
   "cell_type": "code",
   "execution_count": null,
   "metadata": {},
   "outputs": [],
   "source": [
    "%%time\n",
    "cm_country_count = len(Customer_Master['country'].value_counts().keys())\n",
    "bisnode_country_count = len(Bisnode['country'].value_counts().keys())\n",
    "\n",
    "Customer_Master = Customer_Master.merge(Country_mapping[['COUNTRY', 'A2 (ISO)']],\n",
    "                                    left_on = \"country\", right_on = 'A2 (ISO)', how = 'inner').groupby(['customer']).head(1)\n",
    "\n",
    "Customer_Master.drop(columns = ['A2 (ISO)', 'country'], inplace = True)\n",
    "Customer_Master.rename(columns = {\"COUNTRY\": \"country\"}, inplace = True)\n",
    "\n",
    "if bisnode_country_count != cm_country_count:\n",
    "    \n",
    "    Customer_Master = Customer_Master.merge(Bisnode['country'], on ='country', how = 'inner').groupby(['customer']).head(1)\n",
    "    Customer_Master = Customer_Master[~Customer_Master.customer.isna()]\n",
    "\n",
    "print(\"Shape: \", Customer_Master.shape)\n",
    "\n",
    "Customer_Master.head(5)"
   ]
  },
  {
   "cell_type": "code",
   "execution_count": null,
   "metadata": {},
   "outputs": [],
   "source": [
    "# # Bisnode['postal_cd'].astype(str).str[:5]\n",
    "# # Bisnode['postal_cd'] = Bisnode['postal_cd'].astype(str).str[:5]\n",
    "\n",
    "# print(Bisnode['postal_cd'].astype(str).str.split('-').str[0].str.len().mean().round())\n",
    "# print(Bisnode['postal_cd'].astype(str).str.len().mean().round())\n",
    "\n",
    "# # Bisnode['postal_cd'] = Bisnode['postal_cd'].str.split('-').str[0]\n",
    "# Bisnode['postal_cd'].head(5)"
   ]
  },
  {
   "cell_type": "markdown",
   "metadata": {},
   "source": [
    "# DataFrame prep"
   ]
  },
  {
   "cell_type": "code",
   "execution_count": null,
   "metadata": {},
   "outputs": [],
   "source": [
    "Cust_Master_2 = Customer_Master[relevant_columns].copy()\n",
    "Cust_Master_2 = Cust_Master_2[~Cust_Master_2[relevant_columns].duplicated()]\n",
    "\n",
    "for col in Cust_Master_2.keys():\n",
    "    if col != \"customer\":\n",
    "        Cust_Master_2[col + \"_org\"] = Cust_Master_2[col]\n",
    "\n",
    "Cust_Master_2.info()\n",
    "Cust_Master_2.head(5)"
   ]
  },
  {
   "cell_type": "code",
   "execution_count": null,
   "metadata": {},
   "outputs": [],
   "source": [
    "relevant_columns_bis = relevant_columns.copy()\n",
    "relevant_columns_bis.remove('customer')\n",
    "relevant_columns_bis.append('duns no')\n",
    "\n",
    "Bisnode_org = Bisnode[relevant_columns_bis].copy()\n",
    "# Bisnode_org = Bisnode_org.sample(n = 10, random_state = 42) # limit here n Bisnode Customer amount for testing\n",
    "\n",
    "Bisnode_org.info()\n",
    "Bisnode_org.head(5)"
   ]
  },
  {
   "cell_type": "code",
   "execution_count": null,
   "metadata": {},
   "outputs": [],
   "source": [
    "%%time\n",
    "\n",
    "symbol_lst = [\")\", \"(\", \".\", \"|\", \"[\", \"]\", \"{\", \"}\", \"'\", \"-\", \"!\", \"@\", \"#\", \"_\", \"%\", \"&\", \"$\", '\"', \".\", \",\", ':', ';', '=', '/', '?', '+']\n",
    "rx = '[' + re.escape(''.join(symbol_lst)) + ']'\n",
    "    \n",
    "def str_clean(df):\n",
    "    for column in df.columns:\n",
    "        if column[-3:] != 'org' and column != 'duns no':\n",
    "            df[column] = [re.sub(rx, \"\", str(x)) for x in df[column]]\n",
    "            df[column] = df[column].str.replace(\" \",\"\")\n",
    "            df[column] = df[column].str.lower()\n",
    "            \n",
    "str_clean(Cust_Master_2)\n",
    "str_clean(Bisnode_org)\n",
    "\n",
    "Bisnode_org.head(5)"
   ]
  },
  {
   "cell_type": "code",
   "execution_count": null,
   "metadata": {},
   "outputs": [],
   "source": [
    "Cust_Master_2.head(5)"
   ]
  },
  {
   "cell_type": "code",
   "execution_count": null,
   "metadata": {},
   "outputs": [],
   "source": [
    "print(\"Shape: \", Cust_Master_2.shape)\n",
    "Cust_Master_2 = Cust_Master_2[~(Cust_Master_2.name == \".\") |\n",
    "                                ~(Cust_Master_2['name'].str.lower() == 'test') |\n",
    "                                ~(Cust_Master_2['name'].str.lower() == '-') |\n",
    "                                ~(Cust_Master_2['name'].str.lower() == '_') |\n",
    "                                ~(Cust_Master_2['name'] == ':') |\n",
    "                                ~(Cust_Master_2['name'] == '') |\n",
    "                                ~(Cust_Master_2['name'].str.lower().str.contains('duplicate')) |\n",
    "                                ~(Cust_Master_2['name'].str.lower().str.contains('unassigned'))]\n",
    "\n",
    "Cust_Master_2 = Cust_Master_2[~(Cust_Master_2['city'] == \"\") & ~(Cust_Master_2['street'] == \"\")]\n",
    "Cust_Master_2 = Cust_Master_2[~(Cust_Master_2['city'] == \"-\") & ~(Cust_Master_2['street'] == \"-\")]\n",
    "\n",
    "print(\"Shape: \", Cust_Master_2.shape)"
   ]
  },
  {
   "cell_type": "markdown",
   "metadata": {},
   "source": [
    "# String Comparison"
   ]
  },
  {
   "cell_type": "code",
   "execution_count": null,
   "metadata": {},
   "outputs": [],
   "source": [
    "Bisnode_org.shape, Cust_Master_2.shape"
   ]
  },
  {
   "cell_type": "code",
   "execution_count": null,
   "metadata": {},
   "outputs": [],
   "source": [
    "relevant_columns.remove('country')\n",
    "relevant_columns.remove('customer')\n",
    "\n",
    "bis_col = relevant_columns.copy()\n",
    "bis_col.append('key')\n",
    "bis_col.append('duns no')\n",
    "\n",
    "cm_col = relevant_columns.copy()\n",
    "cm_col.append('key')\n",
    "cm_col.append('customer')"
   ]
  },
  {
   "cell_type": "code",
   "execution_count": null,
   "metadata": {},
   "outputs": [],
   "source": [
    "%%time \n",
    "# cartesian product\n",
    "print(\"Count of Countries: \", bisnode_country_count)\n",
    "\n",
    "n_Neighbours = 1 # change here for neighbour count\n",
    "name_weight, street_weight, city_weight, postal_cd_weight = 4, 3, 1, 1\n",
    "Bisnode_org['key'], Cust_Master_2['key'] = 1, 1\n",
    "\n",
    "dict_of_df = {}\n",
    "\n",
    "for i in Bisnode_org['country'].value_counts().keys():\n",
    "        dict_of_df[i] = pd.merge(Bisnode_org[bis_col][Bisnode_org.country == i].astype('category'),  Cust_Master_2[cm_col][Cust_Master_2.country == i].astype('category'),\n",
    "                             on = 'key', suffixes = (\"_Bisnode\", \"_Cust_Master\"), copy = False).drop(columns = ['key'])\n",
    "        \n",
    "        for col in relevant_columns:\n",
    "            dict_of_df[i][str(col) + '_score'] = list(map(lv.ratio, dict_of_df[i][str(col) + '_Bisnode'].to_numpy(), dict_of_df[i][str(col) + '_Cust_Master'].to_numpy()))\n",
    "            dict_of_df[i][str(col) + '_score'] = dict_of_df[i][str(col) + '_score'].astype(np.float16)\n",
    "    \n",
    "#         dict_of_df[i]['final_score'] = dict_of_df[i].filter(regex = '_score$', axis = 1).mean(axis = 1) # mean calculation of all 'score' columns\n",
    "        dict_of_df[i]['final_score'] = ((dict_of_df[i]['name_score'].to_numpy() * name_weight) + (dict_of_df[i]['street_score'].to_numpy() * street_weight) +\n",
    "                                        (dict_of_df[i]['postal_cd_score'].to_numpy() * postal_cd_weight) + (dict_of_df[i]['city_score'].to_numpy() * city_weight)) / (name_weight + street_weight + city_weight + postal_cd_weight)\n",
    "       \n",
    "        dict_of_df[i]['final_score'] = dict_of_df[i]['final_score'].astype(np.float16)\n",
    "\n",
    "        dict_of_df[i] = dict_of_df[i][dict_of_df[i]['final_score'].to_numpy() > 0]          \n",
    "        dict_of_df[i] = dict_of_df[i].sort_values(['final_score'], ascending = False).groupby(['duns no']).head(n_Neighbours)"
   ]
  },
  {
   "cell_type": "code",
   "execution_count": null,
   "metadata": {},
   "outputs": [],
   "source": [
    "%%time\n",
    "df = []\n",
    "df = pd.concat([dict_of_df[i] for i in [*dict_of_df]], axis = 0)\n",
    "\n",
    "for i in [*dict_of_df]:\n",
    "    try:\n",
    "        del dict_of_df[i]\n",
    "    except:\n",
    "        pass\n",
    "\n",
    "df.info()\n",
    "df.head(5)"
   ]
  },
  {
   "cell_type": "code",
   "execution_count": null,
   "metadata": {},
   "outputs": [],
   "source": [
    "for col in df.columns:\n",
    "        col_type = df[col].dtype\n",
    "        if col_type == 'float16':\n",
    "            df[col] = df[col].astype(np.float64)"
   ]
  },
  {
   "cell_type": "code",
   "execution_count": null,
   "metadata": {},
   "outputs": [],
   "source": [
    "df['final_score'].plot.hist(figsize = (15, 6), bins = 10);\n",
    "pd.concat([df['final_score'].round(1).value_counts(normalize = False), df['final_score'].round(1).value_counts(normalize = True).round(2)], axis=1).head(10)"
   ]
  },
  {
   "cell_type": "code",
   "execution_count": null,
   "metadata": {},
   "outputs": [],
   "source": [
    "score_threshold = .8\n",
    "\n",
    "print(\"Count of rows that meets threshold:\", len(df[df['final_score'] >= score_threshold]))\n",
    "print(\"Share of rows that meets threshold:\", round(len(df[df['final_score'] >= score_threshold]) / len(df), 2))\n",
    "\n",
    "show(df[df['final_score'] >= score_threshold].sort_values(['name_Bisnode', 'final_score']), 5)"
   ]
  },
  {
   "cell_type": "code",
   "execution_count": null,
   "metadata": {},
   "outputs": [],
   "source": [
    "print(\"Shape: \", df[df[['name_Bisnode', 'street_Bisnode', 'city_Bisnode']].duplicated()].shape)\n",
    "df[df[['name_Bisnode', 'street_Bisnode', 'city_Bisnode']].duplicated()].head(10)"
   ]
  },
  {
   "cell_type": "markdown",
   "metadata": {},
   "source": [
    "# Final Result Export"
   ]
  },
  {
   "cell_type": "code",
   "execution_count": null,
   "metadata": {},
   "outputs": [],
   "source": [
    "df = df.merge(Cust_Master_2[['name_org', 'street_org', 'city_org', 'postal_cd_org', 'customer']], on = 'customer', how = 'inner')"
   ]
  },
  {
   "cell_type": "code",
   "execution_count": null,
   "metadata": {},
   "outputs": [],
   "source": [
    "final_df = df[['duns no', 'customer', 'final_score', 'name_org', 'street_org', 'city_org', 'postal_cd_org']]\n",
    "final_df.head(5)"
   ]
  },
  {
   "cell_type": "code",
   "execution_count": null,
   "metadata": {},
   "outputs": [],
   "source": [
    "# Cust_Master_2[Cust_Master_2['customer'] == '0000727960']"
   ]
  },
  {
   "cell_type": "code",
   "execution_count": null,
   "metadata": {},
   "outputs": [],
   "source": [
    "# Bisnode_org[Bisnode_org['duns no'] == '328897137']"
   ]
  },
  {
   "cell_type": "code",
   "execution_count": null,
   "metadata": {},
   "outputs": [],
   "source": [
    "final_df.to_excel(r\"C:\\Users\\lt0grmk\\OneDrive - Festo\\Big Data\\Company Matcher\\Germany\\F-DE - Customer Matching Output.xlsx\",\n",
    "             sheet_name='Sheet1', index = False)  \n",
    "print(\"Excel file saved!\")"
   ]
  },
  {
   "cell_type": "code",
   "execution_count": null,
   "metadata": {},
   "outputs": [],
   "source": [
    "script_end = time.time() \n",
    "time_delta = round(script_end - script_start, 2)\n",
    "\n",
    "print(\"Script running time: \", time.strftime('%H:%M:%S', time.gmtime(time_delta)))"
   ]
  }
 ],
 "metadata": {
  "kernelspec": {
   "display_name": "Python 3",
   "language": "python",
   "name": "python3"
  },
  "language_info": {
   "codemirror_mode": {
    "name": "ipython",
    "version": 3
   },
   "file_extension": ".py",
   "mimetype": "text/x-python",
   "name": "python",
   "nbconvert_exporter": "python",
   "pygments_lexer": "ipython3",
   "version": "3.7.6"
  }
 },
 "nbformat": 4,
 "nbformat_minor": 2
}
